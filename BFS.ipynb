{
 "cells": [
  {
   "cell_type": "code",
   "execution_count": 1,
   "metadata": {},
   "outputs": [],
   "source": [
    "import networkx as nx\n",
    "import matplotlib.pyplot as plt"
   ]
  },
  {
   "cell_type": "code",
   "execution_count": 2,
   "metadata": {},
   "outputs": [],
   "source": [
    "import ipywidgets as widgets\n",
    "from IPython.display import clear_output"
   ]
  },
  {
   "cell_type": "code",
   "execution_count": 3,
   "metadata": {},
   "outputs": [],
   "source": [
    "DG = nx.DiGraph()"
   ]
  },
  {
   "cell_type": "code",
   "execution_count": 4,
   "metadata": {},
   "outputs": [],
   "source": [
    "DG.add_edge(\"a\", \"b\")\n",
    "DG.add_edge(\"a\", \"f\")\n",
    "DG.add_edge(\"b\", \"c\")\n",
    "DG.add_edge(\"b\", \"g\")\n",
    "DG.add_edge(\"c\", \"d\")\n",
    "DG.add_edge(\"c\", \"g\")\n",
    "DG.add_edge(\"d\", \"e\")\n",
    "DG.add_edge(\"e\", \"f\")\n",
    "DG.add_edge(\"g\", \"a\")\n",
    "DG.add_edge(\"g\", \"d\")\n",
    "DG.add_edge(\"g\", \"e\")\n",
    "DG.add_edge(\"g\", \"f\")"
   ]
  },
  {
   "cell_type": "code",
   "execution_count": 5,
   "metadata": {},
   "outputs": [],
   "source": [
    "def draw_graph(DG):\n",
    "    plt.figure(figsize=(20, 8))\n",
    "    layout = nx.shell_layout(DG)\n",
    "    nx.draw_networkx_nodes(DG, layout, node_size=1600, alpha=0.3, node_color='blue')\n",
    "    nx.draw_networkx_edges(DG,layout, width=1, alpha=0.3, edge_color='blue')\n",
    "    nx.draw_networkx_labels(DG, layout, font_size=18, font_family='sans-serif')\n",
    "    nx.draw_networkx_edge_labels(DG,pos=layout,edge_labels=nx.get_edge_attributes(DG,'weight'), label_pos=0.3, font_size=18)\n",
    "    plt.show()"
   ]
  },
  {
   "cell_type": "markdown",
   "metadata": {},
   "source": [
    "### Breadth First Search Algorithm"
   ]
  },
  {
   "cell_type": "code",
   "execution_count": 6,
   "metadata": {},
   "outputs": [],
   "source": [
    "def draw_BFS_tree(source): \n",
    "    draw_graph(nx.bfs_tree(DG, source))"
   ]
  },
  {
   "cell_type": "code",
   "execution_count": 7,
   "metadata": {},
   "outputs": [
    {
     "data": {
      "application/vnd.jupyter.widget-view+json": {
       "model_id": "d90a8c8cc2c84c93ba7bad341bfa1ecb",
       "version_major": 2,
       "version_minor": 0
      },
      "text/plain": [
       "Dropdown(description='Node 1:', options=('a', 'b', 'c', 'd', 'e', 'f', 'g'), value='a')"
      ]
     },
     "metadata": {},
     "output_type": "display_data"
    }
   ],
   "source": [
    "node_one = widgets.Dropdown(\n",
    "    options=[(\"a\"), (\"b\"), (\"c\"), (\"d\"), (\"e\"), (\"f\"), (\"g\")],\n",
    "    description='Node 1:',\n",
    "    disabled=False,\n",
    ")\n",
    "display(node_one)"
   ]
  },
  {
   "cell_type": "code",
   "execution_count": 8,
   "metadata": {},
   "outputs": [
    {
     "data": {
      "application/vnd.jupyter.widget-view+json": {
       "model_id": "8e8c5703828f4b38a69eb43565b30a5f",
       "version_major": 2,
       "version_minor": 0
      },
      "text/plain": [
       "Dropdown(description='Node 2:', options=('a', 'b', 'c', 'd', 'e', 'f', 'g'), value='a')"
      ]
     },
     "metadata": {},
     "output_type": "display_data"
    }
   ],
   "source": [
    "node_two = widgets.Dropdown(\n",
    "    options=[(\"a\"), (\"b\"), (\"c\"), (\"d\"), (\"e\"), (\"f\"), (\"g\")],\n",
    "    description='Node 2:',\n",
    "    disabled=False,\n",
    ")\n",
    "display(node_two)"
   ]
  },
  {
   "cell_type": "code",
   "execution_count": 9,
   "metadata": {},
   "outputs": [],
   "source": [
    "message = widgets.Output()\n",
    "\n",
    "button_add_edge = widgets.Button(description=\"Add edge\")\n",
    "\n",
    "def on_button_add_edge_clicked(b):\n",
    "    if node_one.value == node_two.value:\n",
    "        with message:\n",
    "            clear_output(True)\n",
    "            print(f\"Self-loops are not allowed.\")\n",
    "    elif DG.has_edge(node_one.value, node_two.value):\n",
    "        with message:\n",
    "            clear_output(True)\n",
    "            print(f\"An edge from node {node_one.value} to node {node_two.value} already exists.\")\n",
    "            print(f\"Parallel edges are not allowed.\")\n",
    "    else:\n",
    "        DG.add_edge(node_one.value, node_two.value)\n",
    "        with output:\n",
    "            clear_output(True)\n",
    "            draw_graph(DG)\n",
    "        with message:\n",
    "            clear_output(True)\n",
    "            print(f\"A new edge from node {node_one.value} to node {node_two.value} has been added.\")\n",
    "        \n",
    "button_add_edge.on_click(on_button_add_edge_clicked)"
   ]
  },
  {
   "cell_type": "code",
   "execution_count": 10,
   "metadata": {},
   "outputs": [],
   "source": [
    "button_remove_edge = widgets.Button(description=\"Remove edge\")\n",
    "\n",
    "def on_button_remove_edge_clicked(b):\n",
    "    if node_one.value == node_two.value:\n",
    "        with message:\n",
    "            clear_output(True)\n",
    "            print(f\"No edge that connects node {node_one.value} to itself exists.\")\n",
    "    else:\n",
    "        try:\n",
    "            DG.remove_edge(node_one.value, node_two.value)\n",
    "            with output:\n",
    "                clear_output(True)\n",
    "                draw_graph(DG)\n",
    "            with message:\n",
    "                clear_output(True)\n",
    "                print(f\"The edge from node {node_one.value} to node {node_two.value} has been removed.\")\n",
    "        except nx.NetworkXError:\n",
    "            with message:\n",
    "                clear_output(True)\n",
    "                print(f\"No edge from node {node_one.value} to node {node_two.value} exists.\")\n",
    "    \n",
    "button_remove_edge.on_click(on_button_remove_edge_clicked)"
   ]
  },
  {
   "cell_type": "code",
   "execution_count": 11,
   "metadata": {},
   "outputs": [
    {
     "data": {
      "application/vnd.jupyter.widget-view+json": {
       "model_id": "275a786a943c4a5eae7553f6afe9c90e",
       "version_major": 2,
       "version_minor": 0
      },
      "text/plain": [
       "Button(description='Add edge', style=ButtonStyle())"
      ]
     },
     "metadata": {},
     "output_type": "display_data"
    },
    {
     "data": {
      "application/vnd.jupyter.widget-view+json": {
       "model_id": "5c725038932c4f418acb7d85f169ddbc",
       "version_major": 2,
       "version_minor": 0
      },
      "text/plain": [
       "Button(description='Remove edge', style=ButtonStyle())"
      ]
     },
     "metadata": {},
     "output_type": "display_data"
    },
    {
     "data": {
      "application/vnd.jupyter.widget-view+json": {
       "model_id": "03a9950f119f4ad0885fac7b402a1cb4",
       "version_major": 2,
       "version_minor": 0
      },
      "text/plain": [
       "Output()"
      ]
     },
     "metadata": {},
     "output_type": "display_data"
    }
   ],
   "source": [
    "display(button_add_edge)\n",
    "display(button_remove_edge)\n",
    "display(message)"
   ]
  },
  {
   "cell_type": "code",
   "execution_count": 12,
   "metadata": {},
   "outputs": [
    {
     "data": {
      "application/vnd.jupyter.widget-view+json": {
       "model_id": "b4788c9fb64f470ba7d9e139b9fd9f5b",
       "version_major": 2,
       "version_minor": 0
      },
      "text/plain": [
       "Output()"
      ]
     },
     "metadata": {},
     "output_type": "display_data"
    }
   ],
   "source": [
    "output = widgets.Output()\n",
    "display(output)"
   ]
  },
  {
   "cell_type": "code",
   "execution_count": 13,
   "metadata": {},
   "outputs": [],
   "source": [
    "with output:\n",
    "    clear_output(True)\n",
    "    draw_graph(DG)"
   ]
  },
  {
   "cell_type": "markdown",
   "metadata": {},
   "source": [
    "----"
   ]
  },
  {
   "cell_type": "markdown",
   "metadata": {},
   "source": [
    "**Find a tree constructed from a breadth first-search from source.**"
   ]
  },
  {
   "cell_type": "code",
   "execution_count": 14,
   "metadata": {},
   "outputs": [],
   "source": [
    "w_one = widgets.interactive(draw_BFS_tree, \n",
    "         source=[('a','a'), ('b','b'), ('c','c'), ('d','d'), ('e','e'), ('f','f'), ('g','g')])"
   ]
  },
  {
   "cell_type": "code",
   "execution_count": 15,
   "metadata": {},
   "outputs": [
    {
     "data": {
      "application/vnd.jupyter.widget-view+json": {
       "model_id": "bb7c4efbdd49469caf557d1e526f453c",
       "version_major": 2,
       "version_minor": 0
      },
      "text/plain": [
       "interactive(children=(Dropdown(description='source', options=(('a', 'a'), ('b', 'b'), ('c', 'c'), ('d', 'd'), …"
      ]
     },
     "metadata": {},
     "output_type": "display_data"
    }
   ],
   "source": [
    "display(w_one)"
   ]
  },
  {
   "cell_type": "code",
   "execution_count": null,
   "metadata": {},
   "outputs": [],
   "source": []
  }
 ],
 "metadata": {
  "kernelspec": {
   "display_name": "Python 3",
   "language": "python",
   "name": "python3"
  },
  "language_info": {
   "codemirror_mode": {
    "name": "ipython",
    "version": 3
   },
   "file_extension": ".py",
   "mimetype": "text/x-python",
   "name": "python",
   "nbconvert_exporter": "python",
   "pygments_lexer": "ipython3",
   "version": "3.8.5"
  }
 },
 "nbformat": 4,
 "nbformat_minor": 4
}
